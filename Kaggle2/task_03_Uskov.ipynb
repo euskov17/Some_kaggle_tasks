{
 "cells": [
  {
   "cell_type": "code",
   "execution_count": 1,
   "metadata": {},
   "outputs": [
    {
     "name": "stderr",
     "output_type": "stream",
     "text": [
      "[nltk_data] Downloading package stopwords to\n",
      "[nltk_data]     C:\\Users\\User\\AppData\\Roaming\\nltk_data...\n",
      "[nltk_data]   Package stopwords is already up-to-date!\n"
     ]
    }
   ],
   "source": [
    "from collections import defaultdict\n",
    "\n",
    "import nltk\n",
    "import pandas as pd\n",
    "from typing import List\n",
    "from nltk.corpus import stopwords\n",
    "from sklearn.feature_extraction.text import CountVectorizer, TfidfVectorizer\n",
    "from sklearn.cluster import KMeans, DBSCAN, AgglomerativeClustering, OPTICS\n",
    "\n",
    "\n",
    "nltk.download(\"stopwords\")\n",
    "\n",
    "RUSSIAN_STOPWORDS = set(stopwords.words(\"russian\"))"
   ]
  },
  {
   "cell_type": "code",
   "execution_count": 2,
   "metadata": {},
   "outputs": [],
   "source": [
    "def process_text(str):\n",
    "    \"\"\" Converting a string of pre-lemmatized words into a list of tokens \"\"\"\n",
    "    return [s for s in str.split() if not s.isspace()]\n",
    "\n",
    "\n",
    "class TextsPairClassifier(object):\n",
    "\n",
    "    def __init__(self, data: List[str]):\n",
    "        self.pair_labels = defaultdict(lambda: 0)\n",
    "\n",
    "        vectorizer = TfidfVectorizer(stop_words=RUSSIAN_STOPWORDS, \n",
    "                                     tokenizer=process_text, \n",
    "                                     max_df=.5,\n",
    "                                     min_df=5)\n",
    "        \n",
    "        term_doc_matrix = vectorizer.fit_transform(data)\n",
    "\n",
    "        clusterizer =  AgglomerativeClustering(n_clusters=6, linkage='ward')\n",
    "        clusterizer.fit(term_doc_matrix.toarray())\n",
    "        \n",
    "        self.pair_labels = clusterizer.labels_\n",
    "\n",
    "    def label(self, id1: int, id2: int):\n",
    "        \"\"\" If the items are in the same cluster, return 1, else 0; use self.pair_labels\"\"\"\n",
    "        cluster1 = self.pair_labels[id1 - 1]\n",
    "        cluster2 = self.pair_labels[id2 - 1]\n",
    "        \n",
    "        return 1 if cluster1 == cluster2 else 0"
   ]
  },
  {
   "cell_type": "code",
   "execution_count": 3,
   "metadata": {},
   "outputs": [],
   "source": [
    "def generate_submission():\n",
    "\n",
    "    texts = pd.read_csv(\"normalized_texts.csv\", index_col=\"id\", encoding=\"utf-8\")\n",
    "    pairs = pd.read_csv(\"pairs.csv\", index_col=\"id\")\n",
    "\n",
    "    classifier = TextsPairClassifier(texts[\"paragraph_lemmatized\"].to_list())\n",
    "\n",
    "    with open(\"submission.csv\", \"w\", encoding=\"utf-8\") as output:\n",
    "        output.write(\"id,gold\\n\")\n",
    "        for index, id1, id2 in pairs.itertuples():\n",
    "            result = classifier.label(id1, id2)\n",
    "            output.write(\"%s,%s\\n\" % (index, result))\n",
    "            \n",
    "    return classifier"
   ]
  },
  {
   "cell_type": "code",
   "execution_count": 4,
   "metadata": {},
   "outputs": [],
   "source": [
    "if __name__ == \"__main__\":\n",
    "    classifier = generate_submission()"
   ]
  }
 ],
 "metadata": {
  "kernelspec": {
   "display_name": "Python 3 (ipykernel)",
   "language": "python",
   "name": "python3"
  },
  "language_info": {
   "codemirror_mode": {
    "name": "ipython",
    "version": 3
   },
   "file_extension": ".py",
   "mimetype": "text/x-python",
   "name": "python",
   "nbconvert_exporter": "python",
   "pygments_lexer": "ipython3",
   "version": "3.9.13"
  },
  "vscode": {
   "interpreter": {
    "hash": "ad2bdc8ecc057115af97d19610ffacc2b4e99fae6737bb82f5d7fb13d2f2c186"
   }
  }
 },
 "nbformat": 4,
 "nbformat_minor": 2
}
